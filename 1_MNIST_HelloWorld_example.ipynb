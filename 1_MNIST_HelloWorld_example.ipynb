{
  "nbformat": 4,
  "nbformat_minor": 0,
  "metadata": {
    "colab": {
      "name": "1.MNIST-HelloWorld-example.ipynb",
      "version": "0.3.2",
      "provenance": [],
      "collapsed_sections": [],
      "include_colab_link": true
    },
    "kernelspec": {
      "name": "python3",
      "display_name": "Python 3"
    },
    "accelerator": "GPU"
  },
  "cells": [
    {
      "cell_type": "markdown",
      "metadata": {
        "id": "view-in-github",
        "colab_type": "text"
      },
      "source": [
        "<a href=\"https://colab.research.google.com/github/snehotosh/Deep-Learning/blob/master/1_MNIST_HelloWorld_example.ipynb\" target=\"_parent\"><img src=\"https://colab.research.google.com/assets/colab-badge.svg\" alt=\"Open In Colab\"/></a>"
      ]
    },
    {
      "metadata": {
        "id": "gHMgWnKrw6ir",
        "colab_type": "code",
        "colab": {
          "base_uri": "https://localhost:8080/",
          "height": 360
        },
        "outputId": "0584fa0a-0480-4cbc-af54-6b7460bacaf4"
      },
      "cell_type": "code",
      "source": [
        "from __future__ import absolute_import, division, print_function\n",
        "\n",
        "!pip install tensorflow-gpu==2.0.0-alpha0\n",
        "import tensorflow as tf"
      ],
      "execution_count": 1,
      "outputs": [
        {
          "output_type": "stream",
          "text": [
            "Requirement already satisfied: tensorflow-gpu==2.0.0-alpha0 in /usr/local/lib/python3.6/dist-packages (2.0.0a0)\n",
            "Requirement already satisfied: tb-nightly<1.14.0a20190302,>=1.14.0a20190301 in /usr/local/lib/python3.6/dist-packages (from tensorflow-gpu==2.0.0-alpha0) (1.14.0a20190301)\n",
            "Requirement already satisfied: numpy<2.0,>=1.14.5 in /usr/local/lib/python3.6/dist-packages (from tensorflow-gpu==2.0.0-alpha0) (1.14.6)\n",
            "Requirement already satisfied: keras-preprocessing>=1.0.5 in /usr/local/lib/python3.6/dist-packages (from tensorflow-gpu==2.0.0-alpha0) (1.0.9)\n",
            "Requirement already satisfied: six>=1.10.0 in /usr/local/lib/python3.6/dist-packages (from tensorflow-gpu==2.0.0-alpha0) (1.11.0)\n",
            "Requirement already satisfied: tf-estimator-nightly<1.14.0.dev2019030116,>=1.14.0.dev2019030115 in /usr/local/lib/python3.6/dist-packages (from tensorflow-gpu==2.0.0-alpha0) (1.14.0.dev2019030115)\n",
            "Requirement already satisfied: termcolor>=1.1.0 in /usr/local/lib/python3.6/dist-packages (from tensorflow-gpu==2.0.0-alpha0) (1.1.0)\n",
            "Requirement already satisfied: protobuf>=3.6.1 in /usr/local/lib/python3.6/dist-packages (from tensorflow-gpu==2.0.0-alpha0) (3.6.1)\n",
            "Requirement already satisfied: google-pasta>=0.1.2 in /usr/local/lib/python3.6/dist-packages (from tensorflow-gpu==2.0.0-alpha0) (0.1.4)\n",
            "Requirement already satisfied: wheel>=0.26 in /usr/local/lib/python3.6/dist-packages (from tensorflow-gpu==2.0.0-alpha0) (0.33.1)\n",
            "Requirement already satisfied: grpcio>=1.8.6 in /usr/local/lib/python3.6/dist-packages (from tensorflow-gpu==2.0.0-alpha0) (1.15.0)\n",
            "Requirement already satisfied: astor>=0.6.0 in /usr/local/lib/python3.6/dist-packages (from tensorflow-gpu==2.0.0-alpha0) (0.7.1)\n",
            "Requirement already satisfied: absl-py>=0.7.0 in /usr/local/lib/python3.6/dist-packages (from tensorflow-gpu==2.0.0-alpha0) (0.7.0)\n",
            "Requirement already satisfied: keras-applications>=1.0.6 in /usr/local/lib/python3.6/dist-packages (from tensorflow-gpu==2.0.0-alpha0) (1.0.7)\n",
            "Requirement already satisfied: gast>=0.2.0 in /usr/local/lib/python3.6/dist-packages (from tensorflow-gpu==2.0.0-alpha0) (0.2.2)\n",
            "Requirement already satisfied: werkzeug>=0.11.15 in /usr/local/lib/python3.6/dist-packages (from tb-nightly<1.14.0a20190302,>=1.14.0a20190301->tensorflow-gpu==2.0.0-alpha0) (0.14.1)\n",
            "Requirement already satisfied: markdown>=2.6.8 in /usr/local/lib/python3.6/dist-packages (from tb-nightly<1.14.0a20190302,>=1.14.0a20190301->tensorflow-gpu==2.0.0-alpha0) (3.0.1)\n",
            "Requirement already satisfied: setuptools in /usr/local/lib/python3.6/dist-packages (from protobuf>=3.6.1->tensorflow-gpu==2.0.0-alpha0) (40.8.0)\n",
            "Requirement already satisfied: h5py in /usr/local/lib/python3.6/dist-packages (from keras-applications>=1.0.6->tensorflow-gpu==2.0.0-alpha0) (2.8.0)\n"
          ],
          "name": "stdout"
        }
      ]
    },
    {
      "metadata": {
        "id": "mQwdXRRvxG1Y",
        "colab_type": "code",
        "colab": {}
      },
      "cell_type": "code",
      "source": [
        "mnist = tf.keras.datasets.mnist\n",
        "(x_train,y_train),(x_test,y_test) = mnist.load_data()\n",
        "\n"
      ],
      "execution_count": 0,
      "outputs": []
    },
    {
      "metadata": {
        "id": "3-gSUr2_WCtD",
        "colab_type": "code",
        "colab": {}
      },
      "cell_type": "code",
      "source": [
        "import matplotlib.pyplot as plt\n",
        "%matplotlib inline"
      ],
      "execution_count": 0,
      "outputs": []
    },
    {
      "metadata": {
        "id": "DH544q0SOaBi",
        "colab_type": "code",
        "colab": {
          "base_uri": "https://localhost:8080/",
          "height": 280
        },
        "outputId": "d117f46a-a9cd-4303-b278-ef607d8b0c7f"
      },
      "cell_type": "code",
      "source": [
        "fig = plt.figure()\n",
        "for i in range(9):\n",
        "  plt.subplot(3,3,i+1)\n",
        "  plt.tight_layout()\n",
        "  plt.imshow(x_train[i], cmap='gray', interpolation='none')\n",
        "  plt.title(\"Digit: {}\".format(y_train[i]))\n",
        "  plt.xticks([])\n",
        "  plt.yticks([])\n"
      ],
      "execution_count": 42,
      "outputs": [
        {
          "output_type": "display_data",
          "data": {
            "image/png": "[encoded data removed]",
            "text/plain": [
              "<Figure size 432x288 with 9 Axes>"
            ]
          },
          "metadata": {
            "tags": []
          }
        }
      ]
    },
    {
      "metadata": {
        "id": "KG-b7ejPyzla",
        "colab_type": "code",
        "colab": {
          "base_uri": "https://localhost:8080/",
          "height": 85
        },
        "outputId": "75ce603e-0293-4d7c-fed0-970d418751d9"
      },
      "cell_type": "code",
      "source": [
        "print(\"x_train shape\", x_train.shape)\n",
        "print(\"y_train shape\", y_train.shape)\n",
        "print(\"x_test shape\", x_test.shape)\n",
        "print(\"y_test shape\", y_test.shape)"
      ],
      "execution_count": 43,
      "outputs": [
        {
          "output_type": "stream",
          "text": [
            "x_train shape (60000, 28, 28)\n",
            "y_train shape (60000,)\n",
            "x_test shape (10000, 28, 28)\n",
            "y_test shape (10000,)\n"
          ],
          "name": "stdout"
        }
      ]
    },
    {
      "metadata": {
        "id": "Z8mywQpFy6lK",
        "colab_type": "code",
        "colab": {
          "base_uri": "https://localhost:8080/",
          "height": 34
        },
        "outputId": "580b1c29-3785-44fd-9bdb-af8eb81995c0"
      },
      "cell_type": "code",
      "source": [
        "y_train"
      ],
      "execution_count": 25,
      "outputs": [
        {
          "output_type": "execute_result",
          "data": {
            "text/plain": [
              "array([5, 0, 4, ..., 5, 6, 8], dtype=uint8)"
            ]
          },
          "metadata": {
            "tags": []
          },
          "execution_count": 25
        }
      ]
    },
    {
      "metadata": {
        "id": "lsXm0-Qtx1eL",
        "colab_type": "code",
        "colab": {}
      },
      "cell_type": "code",
      "source": [
        "x_train = x_train/255.\n",
        "x_test = x_test/255.\n"
      ],
      "execution_count": 0,
      "outputs": []
    },
    {
      "metadata": {
        "id": "Onm7Gddbx8w_",
        "colab_type": "code",
        "colab": {}
      },
      "cell_type": "code",
      "source": [
        "#Building Sequential Model Architecture\n",
        "network = tf.keras.models.Sequential()\n",
        "network.add(tf.keras.layers.Flatten(input_shape=(28,28)))   # This makes the shape (None,28*28)\n",
        "network.add(tf.keras.layers.Dense(128,activation='relu'))   # No. of params = 784*128 + 128\n",
        "network.add(tf.keras.layers.Dropout(0.2))                   # No parameters\n",
        "network.add(tf.keras.layers.Dense(10,activation='softmax')) # No. of params = 128*10 + 10\n"
      ],
      "execution_count": 0,
      "outputs": []
    },
    {
      "metadata": {
        "id": "A0nzMhQHyRIi",
        "colab_type": "code",
        "colab": {
          "base_uri": "https://localhost:8080/",
          "height": 289
        },
        "outputId": "e8e7e4ec-8ce6-4601-910d-a9e308f9c7bf"
      },
      "cell_type": "code",
      "source": [
        "# Check the Model architecture\n",
        "network.summary()\n"
      ],
      "execution_count": 28,
      "outputs": [
        {
          "output_type": "stream",
          "text": [
            "Model: \"sequential_2\"\n",
            "_________________________________________________________________\n",
            "Layer (type)                 Output Shape              Param #   \n",
            "=================================================================\n",
            "flatten_1 (Flatten)          (None, 784)               0         \n",
            "_________________________________________________________________\n",
            "dense_2 (Dense)              (None, 128)               100480    \n",
            "_________________________________________________________________\n",
            "dropout_1 (Dropout)          (None, 128)               0         \n",
            "_________________________________________________________________\n",
            "dense_3 (Dense)              (None, 10)                1290      \n",
            "=================================================================\n",
            "Total params: 101,770\n",
            "Trainable params: 101,770\n",
            "Non-trainable params: 0\n",
            "_________________________________________________________________\n"
          ],
          "name": "stdout"
        }
      ]
    },
    {
      "metadata": {
        "id": "VnMWP9Fh1gpC",
        "colab_type": "code",
        "colab": {}
      },
      "cell_type": "code",
      "source": [
        "# Compiling the model\n",
        "network.compile(optimizer = 'adam',loss = 'sparse_categorical_crossentropy',metrics=['accuracy'])"
      ],
      "execution_count": 0,
      "outputs": []
    },
    {
      "metadata": {
        "id": "J7vWw1WD2sb4",
        "colab_type": "code",
        "colab": {
          "base_uri": "https://localhost:8080/",
          "height": 1054
        },
        "outputId": "861620c3-4dcc-4447-e23a-c18d74bfbf0e"
      },
      "cell_type": "code",
      "source": [
        "# Model fitting\n",
        "history = network.fit(x=x_train,y=y_train,epochs=30,verbose=1,validation_data=(x_test, y_test),batch_size=128)"
      ],
      "execution_count": 44,
      "outputs": [
        {
          "output_type": "stream",
          "text": [
            "Train on 60000 samples, validate on 10000 samples\n",
            "Epoch 1/30\n",
            "60000/60000 [==============================] - 2s 40us/sample - loss: 0.0136 - accuracy: 0.9953 - val_loss: 0.0853 - val_accuracy: 0.9844\n",
            "Epoch 2/30\n",
            "60000/60000 [==============================] - 3s 42us/sample - loss: 0.0095 - accuracy: 0.9969 - val_loss: 0.0861 - val_accuracy: 0.9839\n",
            "Epoch 3/30\n",
            "60000/60000 [==============================] - 3s 42us/sample - loss: 0.0107 - accuracy: 0.9963 - val_loss: 0.0847 - val_accuracy: 0.9841\n",
            "Epoch 4/30\n",
            "60000/60000 [==============================] - 3s 42us/sample - loss: 0.0098 - accuracy: 0.9967 - val_loss: 0.0883 - val_accuracy: 0.9835\n",
            "Epoch 5/30\n",
            "60000/60000 [==============================] - 3s 43us/sample - loss: 0.0099 - accuracy: 0.9966 - val_loss: 0.0896 - val_accuracy: 0.9841\n",
            "Epoch 6/30\n",
            "60000/60000 [==============================] - 3s 42us/sample - loss: 0.0102 - accuracy: 0.9965 - val_loss: 0.0920 - val_accuracy: 0.9835\n",
            "Epoch 7/30\n",
            "60000/60000 [==============================] - 3s 42us/sample - loss: 0.0098 - accuracy: 0.9968 - val_loss: 0.0952 - val_accuracy: 0.9825\n",
            "Epoch 8/30\n",
            "60000/60000 [==============================] - 3s 42us/sample - loss: 0.0094 - accuracy: 0.9967 - val_loss: 0.0954 - val_accuracy: 0.9832\n",
            "Epoch 9/30\n",
            "60000/60000 [==============================] - 3s 42us/sample - loss: 0.0103 - accuracy: 0.9964 - val_loss: 0.0938 - val_accuracy: 0.9826\n",
            "Epoch 10/30\n",
            "60000/60000 [==============================] - 3s 42us/sample - loss: 0.0104 - accuracy: 0.9963 - val_loss: 0.0960 - val_accuracy: 0.9841\n",
            "Epoch 11/30\n",
            "60000/60000 [==============================] - 3s 42us/sample - loss: 0.0101 - accuracy: 0.9966 - val_loss: 0.0914 - val_accuracy: 0.9825\n",
            "Epoch 12/30\n",
            "60000/60000 [==============================] - 3s 42us/sample - loss: 0.0093 - accuracy: 0.9968 - val_loss: 0.0990 - val_accuracy: 0.9820\n",
            "Epoch 13/30\n",
            "60000/60000 [==============================] - 3s 42us/sample - loss: 0.0115 - accuracy: 0.9962 - val_loss: 0.0921 - val_accuracy: 0.9834\n",
            "Epoch 14/30\n",
            "60000/60000 [==============================] - 3s 42us/sample - loss: 0.0093 - accuracy: 0.9970 - val_loss: 0.0958 - val_accuracy: 0.9831\n",
            "Epoch 15/30\n",
            "60000/60000 [==============================] - 3s 42us/sample - loss: 0.0093 - accuracy: 0.9970 - val_loss: 0.0967 - val_accuracy: 0.9830\n",
            "Epoch 16/30\n",
            "60000/60000 [==============================] - 3s 42us/sample - loss: 0.0100 - accuracy: 0.9968 - val_loss: 0.1005 - val_accuracy: 0.9821\n",
            "Epoch 17/30\n",
            "60000/60000 [==============================] - 3s 42us/sample - loss: 0.0094 - accuracy: 0.9970 - val_loss: 0.0950 - val_accuracy: 0.9829\n",
            "Epoch 18/30\n",
            "60000/60000 [==============================] - 3s 43us/sample - loss: 0.0097 - accuracy: 0.9968 - val_loss: 0.1054 - val_accuracy: 0.9806\n",
            "Epoch 19/30\n",
            "60000/60000 [==============================] - 3s 42us/sample - loss: 0.0097 - accuracy: 0.9966 - val_loss: 0.0984 - val_accuracy: 0.9832\n",
            "Epoch 20/30\n",
            "60000/60000 [==============================] - 3s 42us/sample - loss: 0.0101 - accuracy: 0.9963 - val_loss: 0.0971 - val_accuracy: 0.9825\n",
            "Epoch 21/30\n",
            "60000/60000 [==============================] - 3s 42us/sample - loss: 0.0085 - accuracy: 0.9971 - val_loss: 0.0957 - val_accuracy: 0.9835\n",
            "Epoch 22/30\n",
            "60000/60000 [==============================] - 3s 42us/sample - loss: 0.0079 - accuracy: 0.9973 - val_loss: 0.1052 - val_accuracy: 0.9823\n",
            "Epoch 23/30\n",
            "60000/60000 [==============================] - 3s 42us/sample - loss: 0.0091 - accuracy: 0.9970 - val_loss: 0.0993 - val_accuracy: 0.9831\n",
            "Epoch 24/30\n",
            "60000/60000 [==============================] - 3s 42us/sample - loss: 0.0102 - accuracy: 0.9965 - val_loss: 0.0975 - val_accuracy: 0.9840\n",
            "Epoch 25/30\n",
            "60000/60000 [==============================] - 3s 43us/sample - loss: 0.0093 - accuracy: 0.9970 - val_loss: 0.1050 - val_accuracy: 0.9823\n",
            "Epoch 26/30\n",
            "60000/60000 [==============================] - 3s 42us/sample - loss: 0.0079 - accuracy: 0.9973 - val_loss: 0.1035 - val_accuracy: 0.9824\n",
            "Epoch 27/30\n",
            "60000/60000 [==============================] - 3s 42us/sample - loss: 0.0083 - accuracy: 0.9971 - val_loss: 0.0976 - val_accuracy: 0.9835\n",
            "Epoch 28/30\n",
            "60000/60000 [==============================] - 3s 42us/sample - loss: 0.0074 - accuracy: 0.9977 - val_loss: 0.1015 - val_accuracy: 0.9830\n",
            "Epoch 29/30\n",
            "60000/60000 [==============================] - 3s 42us/sample - loss: 0.0076 - accuracy: 0.9974 - val_loss: 0.1017 - val_accuracy: 0.9824\n",
            "Epoch 30/30\n",
            "60000/60000 [==============================] - 3s 42us/sample - loss: 0.0077 - accuracy: 0.9974 - val_loss: 0.1082 - val_accuracy: 0.9811\n"
          ],
          "name": "stdout"
        }
      ]
    },
    {
      "metadata": {
        "id": "aityL30JMkXj",
        "colab_type": "code",
        "colab": {
          "base_uri": "https://localhost:8080/",
          "height": 297
        },
        "outputId": "579c30a9-9192-4c24-d819-cb3c820b78a8"
      },
      "cell_type": "code",
      "source": [
        "# plotting the metrics\n",
        "fig = plt.figure()\n",
        "plt.subplot(2,1,1)\n",
        "plt.plot(history.history['accuracy'])\n",
        "plt.plot(history.history['val_accuracy'])\n",
        "plt.title('model accuracy')\n",
        "plt.ylabel('accuracy')\n",
        "plt.xlabel('epoch')\n",
        "plt.legend(['train', 'test'], loc='lower right')\n",
        "\n",
        "plt.subplot(2,1,2)\n",
        "plt.plot(history.history['loss'])\n",
        "plt.plot(history.history['val_loss'])\n",
        "plt.title('model loss')\n",
        "plt.ylabel('loss')\n",
        "plt.xlabel('epoch')\n",
        "plt.legend(['train', 'test'], loc='upper right')\n",
        "\n",
        "plt.tight_layout()"
      ],
      "execution_count": 49,
      "outputs": [
        {
          "output_type": "display_data",
          "data": {
            "image/png": "[encoded data removed]",
            "text/plain": [
              "<Figure size 432x288 with 2 Axes>"
            ]
          },
          "metadata": {
            "tags": []
          }
        }
      ]
    },
    {
      "metadata": {
        "id": "-cXKfFMG4Z7S",
        "colab_type": "code",
        "colab": {
          "base_uri": "https://localhost:8080/",
          "height": 34
        },
        "outputId": "5b9120ce-479e-4060-fe1d-20958e066ead"
      },
      "cell_type": "code",
      "source": [
        "loss_and_metrics = network.evaluate(x_test,y_test)"
      ],
      "execution_count": 52,
      "outputs": [
        {
          "output_type": "stream",
          "text": [
            "10000/10000 [==============================] - 1s 76us/sample - loss: 0.1082 - accuracy: 0.9811\n"
          ],
          "name": "stdout"
        }
      ]
    },
    {
      "metadata": {
        "id": "Ov9IpoRw3EOE",
        "colab_type": "code",
        "colab": {
          "base_uri": "https://localhost:8080/",
          "height": 51
        },
        "outputId": "a0d66658-f9ef-4e1f-c2ec-6a0450daec98"
      },
      "cell_type": "code",
      "source": [
        "print('Test Accuracy:',loss_and_metrics[1])\n",
        "print('Test Loss:',loss_and_metrics[0])"
      ],
      "execution_count": 57,
      "outputs": [
        {
          "output_type": "stream",
          "text": [
            "Test Accuracy: 0.9811\n",
            "Test Loss: 0.1081804131631696\n"
          ],
          "name": "stdout"
        }
      ]
    },
    {
      "metadata": {
        "id": "CETXsbe3Wv2M",
        "colab_type": "text"
      },
      "cell_type": "markdown",
      "source": [
        "## Which Figure went wrong"
      ]
    },
    {
      "metadata": {
        "id": "riw4J73tW13Z",
        "colab_type": "code",
        "colab": {}
      },
      "cell_type": "code",
      "source": [
        "predicted_classes = network.predict_classes(x_test)"
      ],
      "execution_count": 0,
      "outputs": []
    },
    {
      "metadata": {
        "id": "wFD2lK9bXfg7",
        "colab_type": "code",
        "colab": {
          "base_uri": "https://localhost:8080/",
          "height": 34
        },
        "outputId": "04c5cca9-b59d-426f-a4dc-17db17c560eb"
      },
      "cell_type": "code",
      "source": [
        "predicted_classes"
      ],
      "execution_count": 59,
      "outputs": [
        {
          "output_type": "execute_result",
          "data": {
            "text/plain": [
              "array([7, 2, 1, ..., 4, 5, 6])"
            ]
          },
          "metadata": {
            "tags": []
          },
          "execution_count": 59
        }
      ]
    },
    {
      "metadata": {
        "id": "C6E_PObrXyN8",
        "colab_type": "code",
        "colab": {}
      },
      "cell_type": "code",
      "source": [
        "import numpy as np"
      ],
      "execution_count": 0,
      "outputs": []
    },
    {
      "metadata": {
        "id": "DDjC4NgnXgkS",
        "colab_type": "code",
        "colab": {
          "base_uri": "https://localhost:8080/",
          "height": 68
        },
        "outputId": "a1421c27-c9be-4579-a79f-71b9ba8ac010"
      },
      "cell_type": "code",
      "source": [
        "# see which we predicted correctly and which not\n",
        "correct_indices = np.nonzero(predicted_classes == y_test)[0] # return the index of matching elements\n",
        "incorrect_indices = np.nonzero(predicted_classes != y_test)[0] # return the index of non-matching elements\n",
        "print()\n",
        "print(len(correct_indices),\" classified correctly\")\n",
        "print(len(incorrect_indices),\" classified incorrectly\")\n"
      ],
      "execution_count": 71,
      "outputs": [
        {
          "output_type": "stream",
          "text": [
            "\n",
            "9811  classified correctly\n",
            "189  classified incorrectly\n"
          ],
          "name": "stdout"
        }
      ]
    },
    {
      "metadata": {
        "id": "hofmI_ddYB5z",
        "colab_type": "code",
        "colab": {
          "base_uri": "https://localhost:8080/",
          "height": 416
        },
        "outputId": "e476ed7a-786d-408f-da1f-7b5ef8136b2d"
      },
      "cell_type": "code",
      "source": [
        "# adapt figure size to accomodate 18 subplots\n",
        "plt.rcParams['figure.figsize'] = (7,14)\n",
        "\n",
        "figure_evaluation = plt.figure()\n",
        "\n",
        "# plot 9 incorrect predictions\n",
        "for i, incorrect in enumerate(incorrect_indices[:9]):\n",
        "    plt.subplot(6,3,i+10)\n",
        "    plt.imshow(x_test[incorrect].reshape(28,28), cmap='gray', interpolation='none')\n",
        "    plt.title(\n",
        "      \"Predicted {}, Truth: {}\".format(predicted_classes[incorrect], \n",
        "                                       y_test[incorrect]))\n",
        "    plt.xticks([])\n",
        "    plt.yticks([])\n",
        "\n",
        "#figure_evaluation"
      ],
      "execution_count": 74,
      "outputs": [
        {
          "output_type": "display_data",
          "data": {
            "image/png": "[encoded data removed]",
            "text/plain": [
              "<Figure size 504x1008 with 9 Axes>"
            ]
          },
          "metadata": {
            "tags": []
          }
        }
      ]
    },
    {
      "metadata": {
        "id": "E_VlYqAwYENA",
        "colab_type": "code",
        "colab": {}
      },
      "cell_type": "code",
      "source": [
        ""
      ],
      "execution_count": 0,
      "outputs": []
    }
  ]
}