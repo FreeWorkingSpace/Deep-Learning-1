{
  "nbformat": 4,
  "nbformat_minor": 0,
  "metadata": {
    "colab": {
      "name": "3.MNIST-CNN-Fashion.ipynb",
      "version": "0.3.2",
      "provenance": [],
      "collapsed_sections": [],
      "include_colab_link": true
    },
    "kernelspec": {
      "name": "python3",
      "display_name": "Python 3"
    },
    "accelerator": "GPU"
  },
  "cells": [
    {
      "cell_type": "markdown",
      "metadata": {
        "id": "view-in-github",
        "colab_type": "text"
      },
      "source": [
        "<a href=\"https://colab.research.google.com/github/snehotosh/Deep-Learning/blob/master/3_MNIST_CNN_Fashion.ipynb\" target=\"_parent\"><img src=\"https://colab.research.google.com/assets/colab-badge.svg\" alt=\"Open In Colab\"/></a>"
      ]
    },
    {
      "metadata": {
        "id": "T3i1oavnhMe6",
        "colab_type": "code",
        "colab": {
          "base_uri": "https://localhost:8080/",
          "height": 530
        },
        "outputId": "a5949e9c-91e4-4372-b88a-d508afc00352"
      },
      "cell_type": "code",
      "source": [
        "from __future__ import absolute_import, division, print_function\n",
        "\n",
        "!pip install tensorflow-gpu==2.0.0-alpha0"
      ],
      "execution_count": 1,
      "outputs": [
        {
          "output_type": "stream",
          "text": [
            "Collecting tensorflow-gpu==2.0.0-alpha0\n",
            "\u001b[?25l  Downloading https://files.pythonhosted.org/packages/1a/66/32cffad095253219d53f6b6c2a436637bbe45ac4e7be0244557210dc3918/tensorflow_gpu-2.0.0a0-cp36-cp36m-manylinux1_x86_64.whl (332.1MB)\n",
            "\u001b[K    100% |████████████████████████████████| 332.1MB 71kB/s \n",
            "\u001b[?25hCollecting tb-nightly<1.14.0a20190302,>=1.14.0a20190301 (from tensorflow-gpu==2.0.0-alpha0)\n",
            "\u001b[?25l  Downloading https://files.pythonhosted.org/packages/a9/51/aa1d756644bf4624c03844115e4ac4058eff77acd786b26315f051a4b195/tb_nightly-1.14.0a20190301-py3-none-any.whl (3.0MB)\n",
            "\u001b[K    100% |████████████████████████████████| 3.0MB 8.2MB/s \n",
            "\u001b[?25hRequirement already satisfied: astor>=0.6.0 in /usr/local/lib/python3.6/dist-packages (from tensorflow-gpu==2.0.0-alpha0) (0.7.1)\n",
            "Requirement already satisfied: absl-py>=0.7.0 in /usr/local/lib/python3.6/dist-packages (from tensorflow-gpu==2.0.0-alpha0) (0.7.0)\n",
            "Requirement already satisfied: gast>=0.2.0 in /usr/local/lib/python3.6/dist-packages (from tensorflow-gpu==2.0.0-alpha0) (0.2.2)\n",
            "Requirement already satisfied: six>=1.10.0 in /usr/local/lib/python3.6/dist-packages (from tensorflow-gpu==2.0.0-alpha0) (1.11.0)\n",
            "Requirement already satisfied: keras-preprocessing>=1.0.5 in /usr/local/lib/python3.6/dist-packages (from tensorflow-gpu==2.0.0-alpha0) (1.0.9)\n",
            "Requirement already satisfied: protobuf>=3.6.1 in /usr/local/lib/python3.6/dist-packages (from tensorflow-gpu==2.0.0-alpha0) (3.6.1)\n",
            "Requirement already satisfied: numpy<2.0,>=1.14.5 in /usr/local/lib/python3.6/dist-packages (from tensorflow-gpu==2.0.0-alpha0) (1.14.6)\n",
            "Collecting tf-estimator-nightly<1.14.0.dev2019030116,>=1.14.0.dev2019030115 (from tensorflow-gpu==2.0.0-alpha0)\n",
            "\u001b[?25l  Downloading https://files.pythonhosted.org/packages/13/82/f16063b4eed210dc2ab057930ac1da4fbe1e91b7b051a6c8370b401e6ae7/tf_estimator_nightly-1.14.0.dev2019030115-py2.py3-none-any.whl (411kB)\n",
            "\u001b[K    100% |████████████████████████████████| 419kB 12.6MB/s \n",
            "\u001b[?25hCollecting google-pasta>=0.1.2 (from tensorflow-gpu==2.0.0-alpha0)\n",
            "\u001b[?25l  Downloading https://files.pythonhosted.org/packages/8c/96/adbd4eafe72ce9b5ca6f168fbf109386e1b601f7c59926a11e9d7b7a5b44/google_pasta-0.1.4-py3-none-any.whl (51kB)\n",
            "\u001b[K    100% |████████████████████████████████| 61kB 24.0MB/s \n",
            "\u001b[?25hRequirement already satisfied: wheel>=0.26 in /usr/local/lib/python3.6/dist-packages (from tensorflow-gpu==2.0.0-alpha0) (0.33.1)\n",
            "Requirement already satisfied: termcolor>=1.1.0 in /usr/local/lib/python3.6/dist-packages (from tensorflow-gpu==2.0.0-alpha0) (1.1.0)\n",
            "Requirement already satisfied: keras-applications>=1.0.6 in /usr/local/lib/python3.6/dist-packages (from tensorflow-gpu==2.0.0-alpha0) (1.0.7)\n",
            "Requirement already satisfied: grpcio>=1.8.6 in /usr/local/lib/python3.6/dist-packages (from tensorflow-gpu==2.0.0-alpha0) (1.15.0)\n",
            "Requirement already satisfied: werkzeug>=0.11.15 in /usr/local/lib/python3.6/dist-packages (from tb-nightly<1.14.0a20190302,>=1.14.0a20190301->tensorflow-gpu==2.0.0-alpha0) (0.14.1)\n",
            "Requirement already satisfied: markdown>=2.6.8 in /usr/local/lib/python3.6/dist-packages (from tb-nightly<1.14.0a20190302,>=1.14.0a20190301->tensorflow-gpu==2.0.0-alpha0) (3.0.1)\n",
            "Requirement already satisfied: setuptools in /usr/local/lib/python3.6/dist-packages (from protobuf>=3.6.1->tensorflow-gpu==2.0.0-alpha0) (40.8.0)\n",
            "Requirement already satisfied: h5py in /usr/local/lib/python3.6/dist-packages (from keras-applications>=1.0.6->tensorflow-gpu==2.0.0-alpha0) (2.8.0)\n",
            "Installing collected packages: tb-nightly, tf-estimator-nightly, google-pasta, tensorflow-gpu\n",
            "Successfully installed google-pasta-0.1.4 tb-nightly-1.14.0a20190301 tensorflow-gpu-2.0.0a0 tf-estimator-nightly-1.14.0.dev2019030115\n"
          ],
          "name": "stdout"
        }
      ]
    },
    {
      "metadata": {
        "id": "iaMaXZeZtJuc",
        "colab_type": "code",
        "colab": {}
      },
      "cell_type": "code",
      "source": [
        "# https://www.tensorflow.org/tutorials/keras/basic_classification"
      ],
      "execution_count": 0,
      "outputs": []
    },
    {
      "metadata": {
        "id": "0WsgA1p4hfpH",
        "colab_type": "code",
        "colab": {}
      },
      "cell_type": "code",
      "source": [
        "# Import necessary Modules\n",
        "import tensorflow as tf\n",
        "import matplotlib.pyplot as plt\n",
        "%matplotlib inline\n",
        "import numpy as np\n",
        "from tensorflow.keras import layers,models\n",
        "from tensorflow.keras.preprocessing.image import ImageDataGenerator\n",
        "from tensorflow.keras.callbacks import ReduceLROnPlateau\n",
        "from tensorflow.keras.datasets import fashion_mnist"
      ],
      "execution_count": 0,
      "outputs": []
    },
    {
      "metadata": {
        "id": "DiATaQannJ96",
        "colab_type": "code",
        "colab": {
          "base_uri": "https://localhost:8080/",
          "height": 153
        },
        "outputId": "4d92b749-5d2b-4fdc-ba3e-7e019bef0915"
      },
      "cell_type": "code",
      "source": [
        "# Import\n",
        "(x_train, y_train), (x_test, y_test) = fashion_mnist.load_data()"
      ],
      "execution_count": 3,
      "outputs": [
        {
          "output_type": "stream",
          "text": [
            "Downloading data from https://storage.googleapis.com/tensorflow/tf-keras-datasets/train-labels-idx1-ubyte.gz\n",
            "32768/29515 [=================================] - 0s 0us/step\n",
            "Downloading data from https://storage.googleapis.com/tensorflow/tf-keras-datasets/train-images-idx3-ubyte.gz\n",
            "26427392/26421880 [==============================] - 0s 0us/step\n",
            "Downloading data from https://storage.googleapis.com/tensorflow/tf-keras-datasets/t10k-labels-idx1-ubyte.gz\n",
            "8192/5148 [===============================================] - 0s 0us/step\n",
            "Downloading data from https://storage.googleapis.com/tensorflow/tf-keras-datasets/t10k-images-idx3-ubyte.gz\n",
            "4423680/4422102 [==============================] - 0s 0us/step\n"
          ],
          "name": "stdout"
        }
      ]
    },
    {
      "metadata": {
        "id": "wEx34abznvOa",
        "colab_type": "code",
        "colab": {}
      },
      "cell_type": "code",
      "source": [
        "class_names = ['T-shirt/top', 'Trouser', 'Pullover', 'Dress', 'Coat', \n",
        "               'Sandal', 'Shirt', 'Sneaker', 'Bag', 'Ankle boot']"
      ],
      "execution_count": 0,
      "outputs": []
    },
    {
      "metadata": {
        "id": "XDHmeVxloX4C",
        "colab_type": "code",
        "colab": {
          "base_uri": "https://localhost:8080/",
          "height": 85
        },
        "outputId": "6e6908e9-9c55-4fcb-e18d-01ff9adec1c8"
      },
      "cell_type": "code",
      "source": [
        "print(x_train.shape)\n",
        "print(y_train.shape)\n",
        "print(x_test.shape)\n",
        "print(y_test.shape)"
      ],
      "execution_count": 5,
      "outputs": [
        {
          "output_type": "stream",
          "text": [
            "(60000, 28, 28)\n",
            "(60000,)\n",
            "(10000, 28, 28)\n",
            "(10000,)\n"
          ],
          "name": "stdout"
        }
      ]
    },
    {
      "metadata": {
        "id": "onDbt9ESouUi",
        "colab_type": "code",
        "colab": {
          "base_uri": "https://localhost:8080/",
          "height": 280
        },
        "outputId": "79df3f64-55f6-4adc-81b9-4cb60ffea327"
      },
      "cell_type": "code",
      "source": [
        "fig = plt.figure()\n",
        "for i in range(9):\n",
        "  plt.subplot(3,3,i+1)\n",
        "  plt.tight_layout()\n",
        "  plt.imshow(x_train[i], cmap='gray', interpolation='none')\n",
        "  plt.title(\"Digit: {}\".format(class_names[y_train[i]]))\n",
        "  plt.xticks([])\n",
        "  plt.yticks([])\n"
      ],
      "execution_count": 6,
      "outputs": [
        {
          "output_type": "display_data",
          "data": {
            "image/png": "[encoded data removed]",
            "text/plain": [
              "<Figure size 432x288 with 9 Axes>"
            ]
          },
          "metadata": {
            "tags": []
          }
        }
      ]
    },
    {
      "metadata": {
        "id": "fRz_gryfpL_9",
        "colab_type": "code",
        "colab": {}
      },
      "cell_type": "code",
      "source": [
        "x_train = x_train.reshape((60000, 28, 28, 1))\n",
        "x_test = x_test.reshape((10000, 28, 28, 1))"
      ],
      "execution_count": 0,
      "outputs": []
    },
    {
      "metadata": {
        "id": "bA70A7rNpbAL",
        "colab_type": "code",
        "colab": {}
      },
      "cell_type": "code",
      "source": [
        "x_train = x_train/255.\n",
        "x_test = x_test/255."
      ],
      "execution_count": 0,
      "outputs": []
    },
    {
      "metadata": {
        "id": "tedq7uZHpbex",
        "colab_type": "code",
        "colab": {
          "base_uri": "https://localhost:8080/",
          "height": 51
        },
        "outputId": "7ad4d043-8c19-4287-b280-5e645be455c8"
      },
      "cell_type": "code",
      "source": [
        "print(x_train.shape)\n",
        "print(x_test.shape)"
      ],
      "execution_count": 9,
      "outputs": [
        {
          "output_type": "stream",
          "text": [
            "(60000, 28, 28, 1)\n",
            "(10000, 28, 28, 1)\n"
          ],
          "name": "stdout"
        }
      ]
    },
    {
      "metadata": {
        "id": "X-x63i7Mpeng",
        "colab_type": "code",
        "colab": {}
      },
      "cell_type": "code",
      "source": [
        "#Building Sequential Model Architecture\n",
        "model = models.Sequential()\n",
        "#----------------------------------------------------------------------------\n",
        "model.add(layers.Conv2D(filters = 32, kernel_size = (5,5),padding = 'Same', \n",
        "                 activation ='relu', input_shape = (28,28,1)))\n",
        "model.add(layers.Conv2D(filters = 32, kernel_size = (5,5),padding = 'Same', \n",
        "                 activation ='relu'))\n",
        "model.add(layers.MaxPool2D(pool_size=(2,2)))\n",
        "#----------------------------------------------------------------------------\n",
        "model.add(layers.Conv2D(filters = 64, kernel_size = (3,3),padding = 'Same', \n",
        "                 activation ='relu'))\n",
        "model.add(layers.Conv2D(filters = 64, kernel_size = (3,3),padding = 'Same', \n",
        "                 activation ='relu'))\n",
        "model.add(layers.MaxPool2D(pool_size=(2,2), strides=(2,2)))\n",
        "#----------------------------------------------------------------------------\n",
        "model.add(layers.Flatten())\n",
        "model.add(layers.Dense(256, activation='relu'))\n",
        "model.add(layers.Dropout(0.2))\n",
        "model.add(layers.Dense(10, activation='softmax'))"
      ],
      "execution_count": 0,
      "outputs": []
    },
    {
      "metadata": {
        "id": "t4Knj9jIphYD",
        "colab_type": "code",
        "colab": {
          "base_uri": "https://localhost:8080/",
          "height": 493
        },
        "outputId": "695a2935-edf8-4463-c746-c5f038094243"
      },
      "cell_type": "code",
      "source": [
        "model.summary()"
      ],
      "execution_count": 11,
      "outputs": [
        {
          "output_type": "stream",
          "text": [
            "Model: \"sequential\"\n",
            "_________________________________________________________________\n",
            "Layer (type)                 Output Shape              Param #   \n",
            "=================================================================\n",
            "conv2d (Conv2D)              (None, 28, 28, 32)        832       \n",
            "_________________________________________________________________\n",
            "conv2d_1 (Conv2D)            (None, 28, 28, 32)        25632     \n",
            "_________________________________________________________________\n",
            "max_pooling2d (MaxPooling2D) (None, 14, 14, 32)        0         \n",
            "_________________________________________________________________\n",
            "conv2d_2 (Conv2D)            (None, 14, 14, 64)        18496     \n",
            "_________________________________________________________________\n",
            "conv2d_3 (Conv2D)            (None, 14, 14, 64)        36928     \n",
            "_________________________________________________________________\n",
            "max_pooling2d_1 (MaxPooling2 (None, 7, 7, 64)          0         \n",
            "_________________________________________________________________\n",
            "flatten (Flatten)            (None, 3136)              0         \n",
            "_________________________________________________________________\n",
            "dense (Dense)                (None, 256)               803072    \n",
            "_________________________________________________________________\n",
            "dropout (Dropout)            (None, 256)               0         \n",
            "_________________________________________________________________\n",
            "dense_1 (Dense)              (None, 10)                2570      \n",
            "=================================================================\n",
            "Total params: 887,530\n",
            "Trainable params: 887,530\n",
            "Non-trainable params: 0\n",
            "_________________________________________________________________\n"
          ],
          "name": "stdout"
        }
      ]
    },
    {
      "metadata": {
        "id": "G4Ha0gQGpjbq",
        "colab_type": "code",
        "colab": {}
      },
      "cell_type": "code",
      "source": [
        "# Compiling the model\n",
        "# https://jovianlin.io/cat-crossentropy-vs-sparse-cat-crossentropy/\n",
        "model.compile(optimizer = 'adam',loss = 'sparse_categorical_crossentropy',metrics=['accuracy'])"
      ],
      "execution_count": 0,
      "outputs": []
    },
    {
      "metadata": {
        "id": "wp4LPV6HpmP9",
        "colab_type": "code",
        "colab": {
          "base_uri": "https://localhost:8080/",
          "height": 1054
        },
        "outputId": "0ee4658f-5543-472a-81d5-f9503da4fa58"
      },
      "cell_type": "code",
      "source": [
        "# Model fitting\n",
        "history = model.fit(x=x_train,y=y_train,epochs=30,verbose=1,validation_data=(x_test, y_test),batch_size=128)"
      ],
      "execution_count": 13,
      "outputs": [
        {
          "output_type": "stream",
          "text": [
            "Train on 60000 samples, validate on 10000 samples\n",
            "Epoch 1/30\n",
            "60000/60000 [==============================] - 14s 236us/sample - loss: 0.4664 - accuracy: 0.8322 - val_loss: 0.3165 - val_accuracy: 0.8864\n",
            "Epoch 2/30\n",
            "60000/60000 [==============================] - 11s 177us/sample - loss: 0.2757 - accuracy: 0.8984 - val_loss: 0.2597 - val_accuracy: 0.9028\n",
            "Epoch 3/30\n",
            "60000/60000 [==============================] - 11s 179us/sample - loss: 0.2308 - accuracy: 0.9153 - val_loss: 0.2448 - val_accuracy: 0.9113\n",
            "Epoch 4/30\n",
            "60000/60000 [==============================] - 11s 178us/sample - loss: 0.1985 - accuracy: 0.9262 - val_loss: 0.2242 - val_accuracy: 0.9162\n",
            "Epoch 5/30\n",
            "60000/60000 [==============================] - 11s 179us/sample - loss: 0.1716 - accuracy: 0.9355 - val_loss: 0.2346 - val_accuracy: 0.9160\n",
            "Epoch 6/30\n",
            "60000/60000 [==============================] - 11s 180us/sample - loss: 0.1504 - accuracy: 0.9449 - val_loss: 0.2240 - val_accuracy: 0.9241\n",
            "Epoch 7/30\n",
            "60000/60000 [==============================] - 11s 177us/sample - loss: 0.1289 - accuracy: 0.9508 - val_loss: 0.2284 - val_accuracy: 0.9241\n",
            "Epoch 8/30\n",
            "60000/60000 [==============================] - 11s 180us/sample - loss: 0.1132 - accuracy: 0.9573 - val_loss: 0.2288 - val_accuracy: 0.9246\n",
            "Epoch 9/30\n",
            "60000/60000 [==============================] - 11s 180us/sample - loss: 0.0930 - accuracy: 0.9653 - val_loss: 0.2348 - val_accuracy: 0.9243\n",
            "Epoch 10/30\n",
            "60000/60000 [==============================] - 10s 175us/sample - loss: 0.0809 - accuracy: 0.9691 - val_loss: 0.2534 - val_accuracy: 0.9262\n",
            "Epoch 11/30\n",
            "60000/60000 [==============================] - 11s 177us/sample - loss: 0.0671 - accuracy: 0.9747 - val_loss: 0.2821 - val_accuracy: 0.9255\n",
            "Epoch 12/30\n",
            "60000/60000 [==============================] - 11s 175us/sample - loss: 0.0616 - accuracy: 0.9767 - val_loss: 0.3392 - val_accuracy: 0.9199\n",
            "Epoch 13/30\n",
            "60000/60000 [==============================] - 10s 173us/sample - loss: 0.0550 - accuracy: 0.9799 - val_loss: 0.2981 - val_accuracy: 0.9268\n",
            "Epoch 14/30\n",
            "60000/60000 [==============================] - 10s 169us/sample - loss: 0.0451 - accuracy: 0.9837 - val_loss: 0.3368 - val_accuracy: 0.9240\n",
            "Epoch 15/30\n",
            "60000/60000 [==============================] - 10s 167us/sample - loss: 0.0433 - accuracy: 0.9835 - val_loss: 0.3527 - val_accuracy: 0.9260\n",
            "Epoch 16/30\n",
            "60000/60000 [==============================] - 10s 165us/sample - loss: 0.0400 - accuracy: 0.9855 - val_loss: 0.3450 - val_accuracy: 0.9259\n",
            "Epoch 17/30\n",
            "60000/60000 [==============================] - 10s 168us/sample - loss: 0.0332 - accuracy: 0.9881 - val_loss: 0.3950 - val_accuracy: 0.9253\n",
            "Epoch 18/30\n",
            "60000/60000 [==============================] - 10s 173us/sample - loss: 0.0330 - accuracy: 0.9877 - val_loss: 0.3648 - val_accuracy: 0.9218\n",
            "Epoch 19/30\n",
            "60000/60000 [==============================] - 10s 175us/sample - loss: 0.0299 - accuracy: 0.9892 - val_loss: 0.4038 - val_accuracy: 0.9252\n",
            "Epoch 20/30\n",
            "60000/60000 [==============================] - 11s 175us/sample - loss: 0.0294 - accuracy: 0.9891 - val_loss: 0.4298 - val_accuracy: 0.9257\n",
            "Epoch 21/30\n",
            "60000/60000 [==============================] - 10s 175us/sample - loss: 0.0303 - accuracy: 0.9888 - val_loss: 0.4688 - val_accuracy: 0.9267\n",
            "Epoch 22/30\n",
            "60000/60000 [==============================] - 10s 170us/sample - loss: 0.0266 - accuracy: 0.9905 - val_loss: 0.4828 - val_accuracy: 0.9232\n",
            "Epoch 23/30\n",
            "60000/60000 [==============================] - 10s 168us/sample - loss: 0.0245 - accuracy: 0.9913 - val_loss: 0.4446 - val_accuracy: 0.9244\n",
            "Epoch 24/30\n",
            "60000/60000 [==============================] - 10s 173us/sample - loss: 0.0243 - accuracy: 0.9915 - val_loss: 0.4250 - val_accuracy: 0.9250\n",
            "Epoch 25/30\n",
            "60000/60000 [==============================] - 10s 171us/sample - loss: 0.0241 - accuracy: 0.9916 - val_loss: 0.5043 - val_accuracy: 0.9233\n",
            "Epoch 26/30\n",
            "60000/60000 [==============================] - 10s 166us/sample - loss: 0.0280 - accuracy: 0.9901 - val_loss: 0.4877 - val_accuracy: 0.9224\n",
            "Epoch 27/30\n",
            "60000/60000 [==============================] - 10s 168us/sample - loss: 0.0227 - accuracy: 0.9918 - val_loss: 0.5224 - val_accuracy: 0.9241\n",
            "Epoch 28/30\n",
            "60000/60000 [==============================] - 10s 173us/sample - loss: 0.0249 - accuracy: 0.9916 - val_loss: 0.4849 - val_accuracy: 0.9262\n",
            "Epoch 29/30\n",
            "60000/60000 [==============================] - 11s 176us/sample - loss: 0.0229 - accuracy: 0.9919 - val_loss: 0.5286 - val_accuracy: 0.9259\n",
            "Epoch 30/30\n",
            "60000/60000 [==============================] - 11s 177us/sample - loss: 0.0211 - accuracy: 0.9927 - val_loss: 0.5723 - val_accuracy: 0.9273\n"
          ],
          "name": "stdout"
        }
      ]
    },
    {
      "metadata": {
        "id": "yBA_BKlEprT_",
        "colab_type": "code",
        "colab": {
          "base_uri": "https://localhost:8080/",
          "height": 297
        },
        "outputId": "57f8d4e0-49b6-4f96-bf55-8987351c1cc2"
      },
      "cell_type": "code",
      "source": [
        "# plotting the metrics\n",
        "fig = plt.figure()\n",
        "plt.subplot(2,1,1)\n",
        "plt.plot(history.history['accuracy'])\n",
        "plt.plot(history.history['val_accuracy'])\n",
        "plt.title('model accuracy')\n",
        "plt.ylabel('accuracy')\n",
        "plt.xlabel('epoch')\n",
        "plt.legend(['train', 'test'], loc='lower right')\n",
        "\n",
        "plt.subplot(2,1,2)\n",
        "plt.plot(history.history['loss'])\n",
        "plt.plot(history.history['val_loss'])\n",
        "plt.title('model loss')\n",
        "plt.ylabel('loss')\n",
        "plt.xlabel('epoch')\n",
        "plt.legend(['train', 'test'], loc='upper right')\n",
        "\n",
        "plt.tight_layout()"
      ],
      "execution_count": 14,
      "outputs": [
        {
          "output_type": "display_data",
          "data": {
            "image/png": "[encoded data removed]",
            "text/plain": [
              "<Figure size 432x288 with 2 Axes>"
            ]
          },
          "metadata": {
            "tags": []
          }
        }
      ]
    },
    {
      "metadata": {
        "id": "ULeuSO33tQB9",
        "colab_type": "text"
      },
      "cell_type": "markdown",
      "source": [
        "**The above graph is showing a overfitting behavior**"
      ]
    },
    {
      "metadata": {
        "id": "3-ONjjSep3b6",
        "colab_type": "code",
        "colab": {
          "base_uri": "https://localhost:8080/",
          "height": 34
        },
        "outputId": "c850f613-6bcc-45c6-826a-e12f53f53239"
      },
      "cell_type": "code",
      "source": [
        "loss_and_metrics = model.evaluate(x_test,y_test)"
      ],
      "execution_count": 15,
      "outputs": [
        {
          "output_type": "stream",
          "text": [
            "10000/10000 [==============================] - 2s 174us/sample - loss: 0.5723 - accuracy: 0.9273\n"
          ],
          "name": "stdout"
        }
      ]
    },
    {
      "metadata": {
        "id": "q-akAvK9p6Gy",
        "colab_type": "code",
        "colab": {
          "base_uri": "https://localhost:8080/",
          "height": 51
        },
        "outputId": "6cd6a323-2020-4041-a77a-477e04151e22"
      },
      "cell_type": "code",
      "source": [
        "print('Test Accuracy:',loss_and_metrics[1])\n",
        "print('Test Loss:',loss_and_metrics[0])"
      ],
      "execution_count": 16,
      "outputs": [
        {
          "output_type": "stream",
          "text": [
            "Test Accuracy: 0.9273\n",
            "Test Loss: 0.5722761352041038\n"
          ],
          "name": "stdout"
        }
      ]
    },
    {
      "metadata": {
        "id": "r3uQosjkp8cp",
        "colab_type": "code",
        "colab": {}
      },
      "cell_type": "code",
      "source": [
        "predicted_classes = model.predict_classes(x_test)"
      ],
      "execution_count": 0,
      "outputs": []
    },
    {
      "metadata": {
        "id": "2W4Er_Qhp9Sy",
        "colab_type": "code",
        "colab": {
          "base_uri": "https://localhost:8080/",
          "height": 68
        },
        "outputId": "98042e37-fa34-4cba-fddb-d3342721b15e"
      },
      "cell_type": "code",
      "source": [
        "# see which we predicted correctly and which not\n",
        "correct_indices = np.nonzero(predicted_classes == y_test)[0] # return the index of matching elements\n",
        "incorrect_indices = np.nonzero(predicted_classes != y_test)[0] # return the index of non-matching elements\n",
        "print()\n",
        "print(len(correct_indices),\" classified correctly\")\n",
        "print(len(incorrect_indices),\" classified incorrectly\")\n"
      ],
      "execution_count": 18,
      "outputs": [
        {
          "output_type": "stream",
          "text": [
            "\n",
            "9273  classified correctly\n",
            "727  classified incorrectly\n"
          ],
          "name": "stdout"
        }
      ]
    },
    {
      "metadata": {
        "id": "PtNGkMv7qCKi",
        "colab_type": "code",
        "colab": {
          "base_uri": "https://localhost:8080/",
          "height": 534
        },
        "outputId": "22824592-6d64-46f5-c07b-927cd6d5aa5e"
      },
      "cell_type": "code",
      "source": [
        "# adapt figure size to accomodate 18 subplots\n",
        "plt.rcParams['figure.figsize'] = (7,20)\n",
        "\n",
        "figure_evaluation = plt.figure()\n",
        "\n",
        "# plot 9 incorrect predictions\n",
        "for i, incorrect in enumerate(incorrect_indices[:9]):\n",
        "    plt.subplot(6,3,i+10)\n",
        "    plt.imshow(x_test[incorrect].reshape(28,28), cmap='gray', interpolation='none')\n",
        "    plt.title(\n",
        "      \"Predicted {}, Truth: {}\".format(class_names[predicted_classes[incorrect]], \n",
        "                                       class_names[y_test[incorrect]]))\n",
        "    plt.xticks([])\n",
        "    plt.yticks([])\n"
      ],
      "execution_count": 26,
      "outputs": [
        {
          "output_type": "display_data",
          "data": {
            "image/png": "[encoded data removed]",
            "text/plain": [
              "<Figure size 504x1440 with 9 Axes>"
            ]
          },
          "metadata": {
            "tags": []
          }
        }
      ]
    },
    {
      "metadata": {
        "id": "b5sgCooMr-E0",
        "colab_type": "code",
        "colab": {}
      },
      "cell_type": "code",
      "source": [
        ""
      ],
      "execution_count": 0,
      "outputs": []
    }
  ]
}