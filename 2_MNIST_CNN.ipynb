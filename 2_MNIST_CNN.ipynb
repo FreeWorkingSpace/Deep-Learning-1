{
  "nbformat": 4,
  "nbformat_minor": 0,
  "metadata": {
    "colab": {
      "name": "2.MNIST-CNN.ipynb",
      "version": "0.3.2",
      "provenance": [],
      "collapsed_sections": [],
      "include_colab_link": true
    },
    "kernelspec": {
      "name": "python3",
      "display_name": "Python 3"
    },
    "accelerator": "GPU"
  },
  "cells": [
    {
      "cell_type": "markdown",
      "metadata": {
        "id": "view-in-github",
        "colab_type": "text"
      },
      "source": [
        "<a href=\"https://colab.research.google.com/github/snehotosh/Deep-Learning/blob/master/2_MNIST_CNN.ipynb\" target=\"_parent\"><img src=\"https://colab.research.google.com/assets/colab-badge.svg\" alt=\"Open In Colab\"/></a>"
      ]
    },
    {
      "metadata": {
        "id": "u57f4cYjbUnb",
        "colab_type": "code",
        "colab": {
          "base_uri": "https://localhost:8080/",
          "height": 360
        },
        "outputId": "cfb69946-ea12-4330-d801-68a65def0c65"
      },
      "cell_type": "code",
      "source": [
        "from __future__ import absolute_import, division, print_function\n",
        "\n",
        "!pip install tensorflow-gpu==2.0.0-alpha0"
      ],
      "execution_count": 1,
      "outputs": [
        {
          "output_type": "stream",
          "text": [
            "Requirement already satisfied: tensorflow-gpu==2.0.0-alpha0 in /usr/local/lib/python3.6/dist-packages (2.0.0a0)\n",
            "Requirement already satisfied: wheel>=0.26 in /usr/local/lib/python3.6/dist-packages (from tensorflow-gpu==2.0.0-alpha0) (0.33.1)\n",
            "Requirement already satisfied: keras-applications>=1.0.6 in /usr/local/lib/python3.6/dist-packages (from tensorflow-gpu==2.0.0-alpha0) (1.0.7)\n",
            "Requirement already satisfied: protobuf>=3.6.1 in /usr/local/lib/python3.6/dist-packages (from tensorflow-gpu==2.0.0-alpha0) (3.6.1)\n",
            "Requirement already satisfied: grpcio>=1.8.6 in /usr/local/lib/python3.6/dist-packages (from tensorflow-gpu==2.0.0-alpha0) (1.15.0)\n",
            "Requirement already satisfied: absl-py>=0.7.0 in /usr/local/lib/python3.6/dist-packages (from tensorflow-gpu==2.0.0-alpha0) (0.7.0)\n",
            "Requirement already satisfied: six>=1.10.0 in /usr/local/lib/python3.6/dist-packages (from tensorflow-gpu==2.0.0-alpha0) (1.11.0)\n",
            "Requirement already satisfied: astor>=0.6.0 in /usr/local/lib/python3.6/dist-packages (from tensorflow-gpu==2.0.0-alpha0) (0.7.1)\n",
            "Requirement already satisfied: tf-estimator-nightly<1.14.0.dev2019030116,>=1.14.0.dev2019030115 in /usr/local/lib/python3.6/dist-packages (from tensorflow-gpu==2.0.0-alpha0) (1.14.0.dev2019030115)\n",
            "Requirement already satisfied: google-pasta>=0.1.2 in /usr/local/lib/python3.6/dist-packages (from tensorflow-gpu==2.0.0-alpha0) (0.1.4)\n",
            "Requirement already satisfied: gast>=0.2.0 in /usr/local/lib/python3.6/dist-packages (from tensorflow-gpu==2.0.0-alpha0) (0.2.2)\n",
            "Requirement already satisfied: termcolor>=1.1.0 in /usr/local/lib/python3.6/dist-packages (from tensorflow-gpu==2.0.0-alpha0) (1.1.0)\n",
            "Requirement already satisfied: keras-preprocessing>=1.0.5 in /usr/local/lib/python3.6/dist-packages (from tensorflow-gpu==2.0.0-alpha0) (1.0.9)\n",
            "Requirement already satisfied: numpy<2.0,>=1.14.5 in /usr/local/lib/python3.6/dist-packages (from tensorflow-gpu==2.0.0-alpha0) (1.14.6)\n",
            "Requirement already satisfied: tb-nightly<1.14.0a20190302,>=1.14.0a20190301 in /usr/local/lib/python3.6/dist-packages (from tensorflow-gpu==2.0.0-alpha0) (1.14.0a20190301)\n",
            "Requirement already satisfied: h5py in /usr/local/lib/python3.6/dist-packages (from keras-applications>=1.0.6->tensorflow-gpu==2.0.0-alpha0) (2.8.0)\n",
            "Requirement already satisfied: setuptools in /usr/local/lib/python3.6/dist-packages (from protobuf>=3.6.1->tensorflow-gpu==2.0.0-alpha0) (40.8.0)\n",
            "Requirement already satisfied: werkzeug>=0.11.15 in /usr/local/lib/python3.6/dist-packages (from tb-nightly<1.14.0a20190302,>=1.14.0a20190301->tensorflow-gpu==2.0.0-alpha0) (0.14.1)\n",
            "Requirement already satisfied: markdown>=2.6.8 in /usr/local/lib/python3.6/dist-packages (from tb-nightly<1.14.0a20190302,>=1.14.0a20190301->tensorflow-gpu==2.0.0-alpha0) (3.0.1)\n"
          ],
          "name": "stdout"
        }
      ]
    },
    {
      "metadata": {
        "id": "HtcJ39ivnFiz",
        "colab_type": "code",
        "colab": {}
      },
      "cell_type": "code",
      "source": [
        "import tensorflow as tf\n",
        "import matplotlib.pyplot as plt\n",
        "%matplotlib inline\n",
        "import numpy as np"
      ],
      "execution_count": 0,
      "outputs": []
    },
    {
      "metadata": {
        "id": "yNur9eS62q4a",
        "colab_type": "code",
        "colab": {}
      },
      "cell_type": "code",
      "source": [
        "mnist = tf.keras.datasets.mnist\n",
        "(x_train,y_train),(x_test,y_test) = mnist.load_data()"
      ],
      "execution_count": 0,
      "outputs": []
    },
    {
      "metadata": {
        "id": "G7wyY7-024Fr",
        "colab_type": "code",
        "colab": {
          "base_uri": "https://localhost:8080/",
          "height": 280
        },
        "outputId": "4d81b9e2-aef2-4105-a7c9-6135b29fc507"
      },
      "cell_type": "code",
      "source": [
        "fig = plt.figure()\n",
        "for i in range(9):\n",
        "  plt.subplot(3,3,i+1)\n",
        "  plt.tight_layout()\n",
        "  plt.imshow(x_train[i], cmap='gray', interpolation='none')\n",
        "  plt.title(\"Digit: {}\".format(y_train[i]))\n",
        "  plt.xticks([])\n",
        "  plt.yticks([])\n"
      ],
      "execution_count": 4,
      "outputs": [
        {
          "output_type": "display_data",
          "data": {
            "image/png": "[encoded data removed]",
            "text/plain": [
              "<Figure size 432x288 with 9 Axes>"
            ]
          },
          "metadata": {
            "tags": []
          }
        }
      ]
    },
    {
      "metadata": {
        "id": "7xu0EYpj262E",
        "colab_type": "code",
        "colab": {
          "base_uri": "https://localhost:8080/",
          "height": 85
        },
        "outputId": "40401a35-5f64-4d29-dac6-6174171a4632"
      },
      "cell_type": "code",
      "source": [
        "print(\"x_train shape\", x_train.shape)\n",
        "print(\"y_train shape\", y_train.shape)\n",
        "print(\"x_test shape\", x_test.shape)\n",
        "print(\"y_test shape\", y_test.shape)"
      ],
      "execution_count": 5,
      "outputs": [
        {
          "output_type": "stream",
          "text": [
            "x_train shape (60000, 28, 28)\n",
            "y_train shape (60000,)\n",
            "x_test shape (10000, 28, 28)\n",
            "y_test shape (10000,)\n"
          ],
          "name": "stdout"
        }
      ]
    },
    {
      "metadata": {
        "id": "YTEMh5su3KIT",
        "colab_type": "code",
        "colab": {}
      },
      "cell_type": "code",
      "source": [
        "x_train = x_train.reshape((60000, 28, 28, 1))\n",
        "x_test = x_test.reshape((10000, 28, 28, 1))"
      ],
      "execution_count": 0,
      "outputs": []
    },
    {
      "metadata": {
        "id": "EVj_5FwB29GK",
        "colab_type": "code",
        "colab": {}
      },
      "cell_type": "code",
      "source": [
        "x_train = x_train/255.\n",
        "x_test = x_test/255.\n"
      ],
      "execution_count": 0,
      "outputs": []
    },
    {
      "metadata": {
        "id": "MC0MXR_s3d1j",
        "colab_type": "code",
        "colab": {
          "base_uri": "https://localhost:8080/",
          "height": 51
        },
        "outputId": "deb53090-7894-45bc-a7de-79bed5fef78b"
      },
      "cell_type": "code",
      "source": [
        "print(x_train.shape)\n",
        "print(x_test.shape)"
      ],
      "execution_count": 11,
      "outputs": [
        {
          "output_type": "stream",
          "text": [
            "(60000, 28, 28, 1)\n",
            "(10000, 28, 28, 1)\n"
          ],
          "name": "stdout"
        }
      ]
    },
    {
      "metadata": {
        "id": "KMxvlyUX3vzr",
        "colab_type": "code",
        "colab": {}
      },
      "cell_type": "code",
      "source": [
        "from tensorflow.keras import layers,models"
      ],
      "execution_count": 0,
      "outputs": []
    },
    {
      "metadata": {
        "id": "5jlFxuQV2_-l",
        "colab_type": "code",
        "colab": {}
      },
      "cell_type": "code",
      "source": [
        "#Building Sequential Model Architecture\n",
        "model = models.Sequential()\n",
        "#----------------------------------------------------------------------------\n",
        "model.add(layers.Conv2D(filters = 32, kernel_size = (5,5),padding = 'Same', \n",
        "                 activation ='relu', input_shape = (28,28,1)))\n",
        "model.add(layers.Conv2D(filters = 32, kernel_size = (5,5),padding = 'Same', \n",
        "                 activation ='relu'))\n",
        "model.add(layers.MaxPool2D(pool_size=(2,2)))\n",
        "#----------------------------------------------------------------------------\n",
        "model.add(layers.Conv2D(filters = 64, kernel_size = (3,3),padding = 'Same', \n",
        "                 activation ='relu'))\n",
        "model.add(layers.Conv2D(filters = 64, kernel_size = (3,3),padding = 'Same', \n",
        "                 activation ='relu'))\n",
        "model.add(layers.MaxPool2D(pool_size=(2,2), strides=(2,2)))\n",
        "#----------------------------------------------------------------------------\n",
        "model.add(layers.Flatten())\n",
        "model.add(layers.Dense(256, activation='relu'))\n",
        "model.add(layers.Dropout(0.2))\n",
        "model.add(layers.Dense(10, activation='softmax'))"
      ],
      "execution_count": 0,
      "outputs": []
    },
    {
      "metadata": {
        "id": "huQiqtf97p4B",
        "colab_type": "code",
        "colab": {
          "base_uri": "https://localhost:8080/",
          "height": 493
        },
        "outputId": "b89a439e-878d-470c-9604-d687aca70112"
      },
      "cell_type": "code",
      "source": [
        "model.summary()"
      ],
      "execution_count": 42,
      "outputs": [
        {
          "output_type": "stream",
          "text": [
            "Model: \"sequential_6\"\n",
            "_________________________________________________________________\n",
            "Layer (type)                 Output Shape              Param #   \n",
            "=================================================================\n",
            "conv2d_19 (Conv2D)           (None, 28, 28, 32)        832       \n",
            "_________________________________________________________________\n",
            "conv2d_20 (Conv2D)           (None, 28, 28, 32)        25632     \n",
            "_________________________________________________________________\n",
            "max_pooling2d_13 (MaxPooling (None, 14, 14, 32)        0         \n",
            "_________________________________________________________________\n",
            "conv2d_21 (Conv2D)           (None, 14, 14, 64)        18496     \n",
            "_________________________________________________________________\n",
            "conv2d_22 (Conv2D)           (None, 14, 14, 64)        36928     \n",
            "_________________________________________________________________\n",
            "max_pooling2d_14 (MaxPooling (None, 7, 7, 64)          0         \n",
            "_________________________________________________________________\n",
            "flatten_4 (Flatten)          (None, 3136)              0         \n",
            "_________________________________________________________________\n",
            "dense_6 (Dense)              (None, 256)               803072    \n",
            "_________________________________________________________________\n",
            "dropout_4 (Dropout)          (None, 256)               0         \n",
            "_________________________________________________________________\n",
            "dense_7 (Dense)              (None, 10)                2570      \n",
            "=================================================================\n",
            "Total params: 887,530\n",
            "Trainable params: 887,530\n",
            "Non-trainable params: 0\n",
            "_________________________________________________________________\n"
          ],
          "name": "stdout"
        }
      ]
    },
    {
      "metadata": {
        "id": "y9aoMrL37uso",
        "colab_type": "code",
        "colab": {}
      },
      "cell_type": "code",
      "source": [
        "# Compiling the model\n",
        "# https://jovianlin.io/cat-crossentropy-vs-sparse-cat-crossentropy/\n",
        "model.compile(optimizer = 'adam',loss = 'sparse_categorical_crossentropy',metrics=['accuracy'])"
      ],
      "execution_count": 0,
      "outputs": []
    },
    {
      "metadata": {
        "id": "MC0wRX-JE4ND",
        "colab_type": "code",
        "colab": {}
      },
      "cell_type": "code",
      "source": [
        "from tensorflow.keras.preprocessing.image import ImageDataGenerator\n",
        "from tensorflow.keras.callbacks import ReduceLROnPlateau"
      ],
      "execution_count": 0,
      "outputs": []
    },
    {
      "metadata": {
        "id": "Xgx5vK3rEb-M",
        "colab_type": "code",
        "colab": {}
      },
      "cell_type": "code",
      "source": [
        "# https://www.kaggle.com/yassineghouzam/introduction-to-cnn-keras-0-997-top-6\n",
        "# With data augmentation to prevent overfitting\n",
        "\n",
        "datagen = ImageDataGenerator(\n",
        "        featurewise_center=False,             # set input mean to 0 over the dataset\n",
        "        samplewise_center=False,              # set each sample mean to 0\n",
        "        featurewise_std_normalization=False,  # divide inputs by std of the dataset\n",
        "        samplewise_std_normalization=False,   # divide each input by its std\n",
        "        zca_whitening=False,                  # apply ZCA whitening\n",
        "        rotation_range=10,                    # randomly rotate images in the range (degrees, 0 to 180)\n",
        "        zoom_range = 0.1,                     # Randomly zoom image \n",
        "        width_shift_range=0.1,                # randomly shift images horizontally (fraction of total width)\n",
        "        height_shift_range=0.1,               # randomly shift images vertically (fraction of total height)\n",
        "        horizontal_flip=False,                # randomly flip images\n",
        "        vertical_flip=False)                  # randomly flip images\n",
        "\n",
        "\n",
        "datagen.fit(x_train)"
      ],
      "execution_count": 0,
      "outputs": []
    },
    {
      "metadata": {
        "id": "NKNEtJBjG41s",
        "colab_type": "code",
        "colab": {}
      },
      "cell_type": "code",
      "source": [
        "# Set a learning rate annealer\n",
        "learning_rate_reduction = ReduceLROnPlateau(monitor='val_accuracy', \n",
        "                                            patience=3, \n",
        "                                            verbose=1, \n",
        "                                            factor=0.5, \n",
        "                                            min_lr=0.00001)"
      ],
      "execution_count": 0,
      "outputs": []
    },
    {
      "metadata": {
        "id": "L-VCJJ73FPE8",
        "colab_type": "code",
        "colab": {}
      },
      "cell_type": "code",
      "source": [
        "# Fit the model\n",
        "# Taking too much time.But may give 99.97 accuracy\n",
        "# https://www.kaggle.com/yassineghouzam/introduction-to-cnn-keras-0-997-top-6\n",
        "history = model.fit_generator(datagen.flow(x_train,y_train, batch_size=128),\n",
        "                              epochs = 30, validation_data = (x_test,y_test),\n",
        "                              verbose = 1, \n",
        "                              steps_per_epoch = x_train.shape[0],\n",
        "                              callbacks = [learning_rate_reduction])"
      ],
      "execution_count": 0,
      "outputs": []
    },
    {
      "metadata": {
        "id": "zGbs-GI_8Gpa",
        "colab_type": "code",
        "colab": {
          "base_uri": "https://localhost:8080/",
          "height": 1054
        },
        "outputId": "8ad4514c-dc2a-4c79-b92f-3e61c63b9460"
      },
      "cell_type": "code",
      "source": [
        "# Model fitting\n",
        "history = model.fit(x=x_train,y=y_train,epochs=30,verbose=1,validation_data=(x_test, y_test),batch_size=128)"
      ],
      "execution_count": 49,
      "outputs": [
        {
          "output_type": "stream",
          "text": [
            "Train on 60000 samples, validate on 10000 samples\n",
            "Epoch 1/30\n",
            "60000/60000 [==============================] - 10s 171us/sample - loss: 1.1041 - accuracy: 0.5992 - val_loss: 0.1833 - val_accuracy: 0.9409\n",
            "Epoch 2/30\n",
            "60000/60000 [==============================] - 10s 159us/sample - loss: 0.1776 - accuracy: 0.9452 - val_loss: 0.0938 - val_accuracy: 0.9695\n",
            "Epoch 3/30\n",
            "60000/60000 [==============================] - 10s 159us/sample - loss: 0.1118 - accuracy: 0.9657 - val_loss: 0.0770 - val_accuracy: 0.9739\n",
            "Epoch 4/30\n",
            "60000/60000 [==============================] - 10s 159us/sample - loss: 0.0853 - accuracy: 0.9736 - val_loss: 0.0539 - val_accuracy: 0.9826\n",
            "Epoch 5/30\n",
            "60000/60000 [==============================] - 10s 159us/sample - loss: 0.0695 - accuracy: 0.9783 - val_loss: 0.0470 - val_accuracy: 0.9846\n",
            "Epoch 6/30\n",
            "60000/60000 [==============================] - 10s 159us/sample - loss: 0.0598 - accuracy: 0.9812 - val_loss: 0.0414 - val_accuracy: 0.9860\n",
            "Epoch 7/30\n",
            "60000/60000 [==============================] - 10s 159us/sample - loss: 0.0521 - accuracy: 0.9835 - val_loss: 0.0405 - val_accuracy: 0.9864\n",
            "Epoch 8/30\n",
            "60000/60000 [==============================] - 10s 159us/sample - loss: 0.0485 - accuracy: 0.9847 - val_loss: 0.0382 - val_accuracy: 0.9877\n",
            "Epoch 9/30\n",
            "60000/60000 [==============================] - 10s 158us/sample - loss: 0.0422 - accuracy: 0.9864 - val_loss: 0.0365 - val_accuracy: 0.9884\n",
            "Epoch 10/30\n",
            "60000/60000 [==============================] - 10s 159us/sample - loss: 0.0379 - accuracy: 0.9873 - val_loss: 0.0306 - val_accuracy: 0.9900\n",
            "Epoch 11/30\n",
            "60000/60000 [==============================] - 10s 159us/sample - loss: 0.0347 - accuracy: 0.9890 - val_loss: 0.0336 - val_accuracy: 0.9892\n",
            "Epoch 12/30\n",
            "60000/60000 [==============================] - 10s 159us/sample - loss: 0.0305 - accuracy: 0.9900 - val_loss: 0.0321 - val_accuracy: 0.9902\n",
            "Epoch 13/30\n",
            "60000/60000 [==============================] - 10s 159us/sample - loss: 0.0279 - accuracy: 0.9905 - val_loss: 0.0341 - val_accuracy: 0.9893\n",
            "Epoch 14/30\n",
            "60000/60000 [==============================] - 10s 160us/sample - loss: 0.0266 - accuracy: 0.9916 - val_loss: 0.0313 - val_accuracy: 0.9896\n",
            "Epoch 15/30\n",
            "60000/60000 [==============================] - 10s 159us/sample - loss: 0.0250 - accuracy: 0.9918 - val_loss: 0.0318 - val_accuracy: 0.9907\n",
            "Epoch 16/30\n",
            "60000/60000 [==============================] - 10s 164us/sample - loss: 0.0221 - accuracy: 0.9929 - val_loss: 0.0304 - val_accuracy: 0.9903\n",
            "Epoch 17/30\n",
            "60000/60000 [==============================] - 10s 164us/sample - loss: 0.0213 - accuracy: 0.9932 - val_loss: 0.0272 - val_accuracy: 0.9909\n",
            "Epoch 18/30\n",
            "60000/60000 [==============================] - 10s 159us/sample - loss: 0.0197 - accuracy: 0.9936 - val_loss: 0.0344 - val_accuracy: 0.9905\n",
            "Epoch 19/30\n",
            "60000/60000 [==============================] - 10s 159us/sample - loss: 0.0189 - accuracy: 0.9934 - val_loss: 0.0354 - val_accuracy: 0.9892\n",
            "Epoch 20/30\n",
            "60000/60000 [==============================] - 10s 159us/sample - loss: 0.0165 - accuracy: 0.9942 - val_loss: 0.0307 - val_accuracy: 0.9909\n",
            "Epoch 21/30\n",
            "60000/60000 [==============================] - 9s 158us/sample - loss: 0.0153 - accuracy: 0.9946 - val_loss: 0.0372 - val_accuracy: 0.9881\n",
            "Epoch 22/30\n",
            "60000/60000 [==============================] - 10s 159us/sample - loss: 0.0161 - accuracy: 0.9945 - val_loss: 0.0448 - val_accuracy: 0.9874\n",
            "Epoch 23/30\n",
            "60000/60000 [==============================] - 10s 159us/sample - loss: 0.0141 - accuracy: 0.9952 - val_loss: 0.0306 - val_accuracy: 0.9917\n",
            "Epoch 24/30\n",
            "60000/60000 [==============================] - 10s 159us/sample - loss: 0.0130 - accuracy: 0.9955 - val_loss: 0.0338 - val_accuracy: 0.9911\n",
            "Epoch 25/30\n",
            "60000/60000 [==============================] - 10s 159us/sample - loss: 0.0107 - accuracy: 0.9963 - val_loss: 0.0361 - val_accuracy: 0.9899\n",
            "Epoch 26/30\n",
            "60000/60000 [==============================] - 10s 159us/sample - loss: 0.0108 - accuracy: 0.9964 - val_loss: 0.0356 - val_accuracy: 0.9902\n",
            "Epoch 27/30\n",
            "60000/60000 [==============================] - 9s 158us/sample - loss: 0.0111 - accuracy: 0.9961 - val_loss: 0.0395 - val_accuracy: 0.9902\n",
            "Epoch 28/30\n",
            "60000/60000 [==============================] - 10s 161us/sample - loss: 0.0107 - accuracy: 0.9963 - val_loss: 0.0331 - val_accuracy: 0.9917\n",
            "Epoch 29/30\n",
            "60000/60000 [==============================] - 10s 165us/sample - loss: 0.0099 - accuracy: 0.9966 - val_loss: 0.0338 - val_accuracy: 0.9906\n",
            "Epoch 30/30\n",
            "60000/60000 [==============================] - 10s 163us/sample - loss: 0.0094 - accuracy: 0.9969 - val_loss: 0.0369 - val_accuracy: 0.9902\n"
          ],
          "name": "stdout"
        }
      ]
    },
    {
      "metadata": {
        "id": "JEbIvr7A8SHX",
        "colab_type": "code",
        "colab": {
          "base_uri": "https://localhost:8080/",
          "height": 1017
        },
        "outputId": "b87907de-dd87-4099-b61d-7d4d94a32f60"
      },
      "cell_type": "code",
      "source": [
        "# plotting the metrics\n",
        "fig = plt.figure()\n",
        "plt.subplot(2,1,1)\n",
        "plt.plot(history.history['accuracy'])\n",
        "plt.plot(history.history['val_accuracy'])\n",
        "plt.title('model accuracy')\n",
        "plt.ylabel('accuracy')\n",
        "plt.xlabel('epoch')\n",
        "plt.legend(['train', 'test'], loc='lower right')\n",
        "\n",
        "plt.subplot(2,1,2)\n",
        "plt.plot(history.history['loss'])\n",
        "plt.plot(history.history['val_loss'])\n",
        "plt.title('model loss')\n",
        "plt.ylabel('loss')\n",
        "plt.xlabel('epoch')\n",
        "plt.legend(['train', 'test'], loc='upper right')\n",
        "\n",
        "plt.tight_layout()"
      ],
      "execution_count": 50,
      "outputs": [
        {
          "output_type": "display_data",
          "data": {
            "image/png": "[encoded data removed]",
            "text/plain": [
              "<Figure size 504x1008 with 2 Axes>"
            ]
          },
          "metadata": {
            "tags": []
          }
        }
      ]
    },
    {
      "metadata": {
        "id": "60qKX6Ja9BWW",
        "colab_type": "code",
        "colab": {
          "base_uri": "https://localhost:8080/",
          "height": 34
        },
        "outputId": "ea626b94-c0a3-45ac-af91-c39a2bcdf8bc"
      },
      "cell_type": "code",
      "source": [
        "loss_and_metrics = model.evaluate(x_test,y_test)"
      ],
      "execution_count": 51,
      "outputs": [
        {
          "output_type": "stream",
          "text": [
            "10000/10000 [==============================] - 1s 147us/sample - loss: 0.0369 - accuracy: 0.9902\n"
          ],
          "name": "stdout"
        }
      ]
    },
    {
      "metadata": {
        "id": "j8dXnQYY9JpA",
        "colab_type": "code",
        "colab": {
          "base_uri": "https://localhost:8080/",
          "height": 51
        },
        "outputId": "8974cc95-e44a-4f2c-df6c-991ecaa9852c"
      },
      "cell_type": "code",
      "source": [
        "print('Test Accuracy:',loss_and_metrics[1])\n",
        "print('Test Loss:',loss_and_metrics[0])"
      ],
      "execution_count": 52,
      "outputs": [
        {
          "output_type": "stream",
          "text": [
            "Test Accuracy: 0.9902\n",
            "Test Loss: 0.03689659099441585\n"
          ],
          "name": "stdout"
        }
      ]
    },
    {
      "metadata": {
        "id": "RqnWVE-v9Np5",
        "colab_type": "code",
        "colab": {}
      },
      "cell_type": "code",
      "source": [
        "predicted_classes = model.predict_classes(x_test)"
      ],
      "execution_count": 0,
      "outputs": []
    },
    {
      "metadata": {
        "id": "dY_gRSpW9WKG",
        "colab_type": "code",
        "colab": {
          "base_uri": "https://localhost:8080/",
          "height": 68
        },
        "outputId": "6262c2c2-c36b-4a79-e370-62d852f0112c"
      },
      "cell_type": "code",
      "source": [
        "# see which we predicted correctly and which not\n",
        "correct_indices = np.nonzero(predicted_classes == y_test)[0] # return the index of matching elements\n",
        "incorrect_indices = np.nonzero(predicted_classes != y_test)[0] # return the index of non-matching elements\n",
        "print()\n",
        "print(len(correct_indices),\" classified correctly\")\n",
        "print(len(incorrect_indices),\" classified incorrectly\")\n"
      ],
      "execution_count": 54,
      "outputs": [
        {
          "output_type": "stream",
          "text": [
            "\n",
            "9902  classified correctly\n",
            "98  classified incorrectly\n"
          ],
          "name": "stdout"
        }
      ]
    },
    {
      "metadata": {
        "id": "Z9Yfl5129al9",
        "colab_type": "code",
        "colab": {
          "base_uri": "https://localhost:8080/",
          "height": 416
        },
        "outputId": "e94761be-731b-4bef-e55e-eaad331244de"
      },
      "cell_type": "code",
      "source": [
        "# adapt figure size to accomodate 18 subplots\n",
        "plt.rcParams['figure.figsize'] = (7,14)\n",
        "\n",
        "figure_evaluation = plt.figure()\n",
        "\n",
        "# plot 9 incorrect predictions\n",
        "for i, incorrect in enumerate(incorrect_indices[:9]):\n",
        "    plt.subplot(6,3,i+10)\n",
        "    plt.imshow(x_test[incorrect].reshape(28,28), cmap='gray', interpolation='none')\n",
        "    plt.title(\n",
        "      \"Predicted {}, Truth: {}\".format(predicted_classes[incorrect], \n",
        "                                       y_test[incorrect]))\n",
        "    plt.xticks([])\n",
        "    plt.yticks([])\n",
        "\n",
        "#figure_evaluation"
      ],
      "execution_count": 55,
      "outputs": [
        {
          "output_type": "display_data",
          "data": {
            "image/png": "[encoded data removed]",
            "text/plain": [
              "<Figure size 504x1008 with 9 Axes>"
            ]
          },
          "metadata": {
            "tags": []
          }
        }
      ]
    },
    {
      "metadata": {
        "id": "SeSSLeWs9gUx",
        "colab_type": "code",
        "colab": {}
      },
      "cell_type": "code",
      "source": [
        ""
      ],
      "execution_count": 0,
      "outputs": []
    }
  ]
}